{
 "cells": [
  {
   "cell_type": "markdown",
   "id": "b639b936",
   "metadata": {},
   "source": [
    "### Answer 1"
   ]
  },
  {
   "cell_type": "code",
   "execution_count": 14,
   "id": "f7cc6c95",
   "metadata": {},
   "outputs": [
    {
     "name": "stdout",
     "output_type": "stream",
     "text": [
      "2002,2009,2016,2023,2037,2044,2051,2058,2072,2079,2086,2093,2107,2114,2121,2128,2142,2149,2156,2163,2177,2184,2191,2198,2212,2219,2226,2233,2247,2254,2261,2268,2282,2289,2296,2303,2317,2324,2331,2338,2352,2359,2366,2373,2387,2394,2401,2408,2422,2429,2436,2443,2457,2464,2471,2478,2492,2499,2506,2513,2527,2534,2541,2548,2562,2569,2576,2583,2597,2604,2611,2618,2632,2639,2646,2653,2667,2674,2681,2688,2702,2709,2716,2723,2737,2744,2751,2758,2772,2779,2786,2793,2807,2814,2821,2828,2842,2849,2856,2863,2877,2884,2891,2898,2912,2919,2926,2933,2947,2954,2961,2968,2982,2989,2996,3003,3017,3024,3031,3038,3052,3059,3066,3073,3087,3094,3101,3108,3122,3129,3136,3143,3157,3164,3171,3178,3192,3199\n"
     ]
    }
   ],
   "source": [
    "i=2000\n",
    "mynumbers = []\n",
    "while i<=3200:\n",
    "    if i%7==0 and i%5!=0:\n",
    "        mynumbers.append(i)\n",
    "        i+=7\n",
    "    else: i+=1\n",
    "print(*mynumbers, sep=\",\")"
   ]
  },
  {
   "cell_type": "markdown",
   "id": "6525d498",
   "metadata": {},
   "source": [
    "### Answer 2"
   ]
  },
  {
   "cell_type": "code",
   "execution_count": 12,
   "id": "fe1ca70e",
   "metadata": {},
   "outputs": [
    {
     "name": "stdout",
     "output_type": "stream",
     "text": [
      "Enter a list of numbers to find their factorials: 2 5\n",
      "2,120\n"
     ]
    }
   ],
   "source": [
    "numbers = map(int, input(\"Enter a list of numbers to find their factorials: \").split())\n",
    "factorials = []\n",
    "for i in numbers:\n",
    "    f = 1\n",
    "    while(i>1):\n",
    "        f*=i\n",
    "        i-=1\n",
    "    factorials.append(f)\n",
    "print(*factorials, sep=\",\")"
   ]
  },
  {
   "cell_type": "markdown",
   "id": "94bea3e1",
   "metadata": {},
   "source": [
    "### Answer 3"
   ]
  },
  {
   "cell_type": "code",
   "execution_count": null,
   "id": "b675d1ae",
   "metadata": {},
   "outputs": [],
   "source": [
    "n = int(input(\"Enter a number to form a dictionary of squares upto range=n: \"))\n",
    "sqrd = {}\n",
    "for i in range(1,n+1):\n",
    "    sqrd.update({i:i*i})\n",
    "print(sqrd)"
   ]
  },
  {
   "cell_type": "markdown",
   "id": "5ddb9ebb",
   "metadata": {},
   "source": [
    "### Answer 4"
   ]
  },
  {
   "cell_type": "code",
   "execution_count": 1,
   "id": "729c0223",
   "metadata": {},
   "outputs": [
    {
     "name": "stdout",
     "output_type": "stream",
     "text": [
      "Enter comma seperated numbers: 3,4,5\n",
      "['3', '4', '5']\n",
      "('3', '4', '5')\n"
     ]
    }
   ],
   "source": [
    "mylist = input(\"Enter comma seperated numbers: \").split(',')\n",
    "mytuple = tuple(mylist)\n",
    "print(mylist)\n",
    "print(mytuple)"
   ]
  },
  {
   "cell_type": "markdown",
   "id": "79fcc8dc",
   "metadata": {},
   "source": [
    "### Answer 5"
   ]
  },
  {
   "cell_type": "code",
   "execution_count": 10,
   "id": "bc45b5ef",
   "metadata": {},
   "outputs": [
    {
     "name": "stdout",
     "output_type": "stream",
     "text": [
      "I am active!\n",
      "Enter a string: hi\n",
      "HI\n"
     ]
    }
   ],
   "source": [
    "class myclass():\n",
    "    def __init__(self):\n",
    "        self.mystring = \"\"\n",
    "    def getString(self):\n",
    "        self.mystring = input(\"Enter a string: \")\n",
    "    def printString(self):\n",
    "        print(self.mystring.upper())\n",
    "    def callit(self):\n",
    "        print(\"I am active!\")\n",
    "\n",
    "s1 = myclass()\n",
    "s1.callit()\n",
    "s1.getString()\n",
    "s1.printString()"
   ]
  },
  {
   "cell_type": "markdown",
   "id": "e7535982",
   "metadata": {},
   "source": [
    "### Answer 6"
   ]
  },
  {
   "cell_type": "code",
   "execution_count": 8,
   "id": "9fa18485",
   "metadata": {},
   "outputs": [
    {
     "name": "stdout",
     "output_type": "stream",
     "text": [
      "Enter different values for d seperated by commas: 100,150 , 180\n",
      "18,22,24\n"
     ]
    }
   ],
   "source": [
    "import math\n",
    "values = map(int, input(\"Enter different values for d seperated by commas: \").split(','))\n",
    "c=50\n",
    "h=30\n",
    "res = []\n",
    "for d in values:\n",
    "    q = math.sqrt(((2*c*d)/h))\n",
    "    res.append(round(q))\n",
    "print(*res,sep=',')"
   ]
  },
  {
   "cell_type": "markdown",
   "id": "1aa07075",
   "metadata": {},
   "source": [
    "### Answer 7"
   ]
  },
  {
   "cell_type": "code",
   "execution_count": 12,
   "id": "7698348d",
   "metadata": {},
   "outputs": [
    {
     "name": "stdout",
     "output_type": "stream",
     "text": [
      "Enter the number of rows: 3\n",
      "Enter the number of columns: 5\n",
      "[[0, 0, 0, 0, 0], [0, 1, 2, 3, 4], [0, 2, 4, 6, 8]]\n"
     ]
    }
   ],
   "source": [
    "myrow = int(input(\"Enter the number of rows: \"))\n",
    "mycol = int(input(\"Enter the number of columns: \"))\n",
    "mymatrix = []\n",
    "for r in range(myrow):\n",
    "    rowval = []\n",
    "    for c in range(mycol):\n",
    "        rowval.append(r*c)\n",
    "    mymatrix.append(rowval)\n",
    "print(mymatrix)"
   ]
  },
  {
   "cell_type": "markdown",
   "id": "b3d5f38a",
   "metadata": {},
   "source": [
    "### Answer 8"
   ]
  },
  {
   "cell_type": "code",
   "execution_count": 1,
   "id": "5f018989",
   "metadata": {},
   "outputs": [
    {
     "name": "stdout",
     "output_type": "stream",
     "text": [
      "Enter comma seperated strings: rakesh, zoo,the sky\n",
      " zoo,rakesh,the sky\n"
     ]
    }
   ],
   "source": [
    "words = input(\"Enter comma seperated strings: \").split(',')\n",
    "words = sorted(words)\n",
    "print(*words,sep=',')"
   ]
  },
  {
   "cell_type": "markdown",
   "id": "6c027375",
   "metadata": {},
   "source": [
    "### Answer 9"
   ]
  },
  {
   "cell_type": "code",
   "execution_count": 2,
   "id": "d70bf77d",
   "metadata": {},
   "outputs": [
    {
     "name": "stdout",
     "output_type": "stream",
     "text": [
      "Enter a line: this is sky\n",
      "THIS IS SKY\n"
     ]
    }
   ],
   "source": [
    "myline = input(\"Enter a line: \")\n",
    "print(myline.upper())"
   ]
  },
  {
   "cell_type": "markdown",
   "id": "0815ae72",
   "metadata": {},
   "source": [
    "### Answer 10"
   ]
  },
  {
   "cell_type": "code",
   "execution_count": 11,
   "id": "81e6214a",
   "metadata": {},
   "outputs": [
    {
     "name": "stdout",
     "output_type": "stream",
     "text": [
      "Enter a line: hello world and practice makes perfect and hello world again\n",
      "again and hello makes perfect practice world\n"
     ]
    }
   ],
   "source": [
    "mywords = input(\"Enter a line: \").split()\n",
    "mywords = set(mywords)\n",
    "mywords = sorted(list(mywords))\n",
    "print(*mywords, sep=' ')"
   ]
  },
  {
   "cell_type": "markdown",
   "id": "6a3d098b",
   "metadata": {},
   "source": [
    "### Answer 11"
   ]
  },
  {
   "cell_type": "code",
   "execution_count": 1,
   "id": "c764394d",
   "metadata": {},
   "outputs": [
    {
     "name": "stdout",
     "output_type": "stream",
     "text": [
      "Enter comma separted binary values: 0100,0011,1010,1001\n",
      "1010\n"
     ]
    }
   ],
   "source": [
    "mybinaries = input(\"Enter comma separted binary values: \").split(',')\n",
    "mybees = []\n",
    "for x in mybinaries:\n",
    "    bi = int(x)\n",
    "    p=0\n",
    "    dec=0\n",
    "    temp = bi\n",
    "    while temp>0:\n",
    "        rem=temp%10\n",
    "        dec = dec+(rem*(2**p))\n",
    "        temp=temp//10\n",
    "        p+=1\n",
    "    if dec%5==0:\n",
    "        mybees.append(bi)\n",
    "print(*mybees, sep=',')"
   ]
  },
  {
   "cell_type": "markdown",
   "id": "9aa4c0a5",
   "metadata": {},
   "source": [
    "### Answer 12"
   ]
  },
  {
   "cell_type": "code",
   "execution_count": 4,
   "id": "c905dadd",
   "metadata": {},
   "outputs": [
    {
     "name": "stdout",
     "output_type": "stream",
     "text": [
      "2000,2002,2004,2006,2008,2020,2022,2024,2026,2028,2040,2042,2044,2046,2048,2060,2062,2064,2066,2068,2080,2082,2084,2086,2088,2200,2202,2204,2206,2208,2220,2222,2224,2226,2228,2240,2242,2244,2246,2248,2260,2262,2264,2266,2268,2280,2282,2284,2286,2288,2400,2402,2404,2406,2408,2420,2422,2424,2426,2428,2440,2442,2444,2446,2448,2460,2462,2464,2466,2468,2480,2482,2484,2486,2488,2600,2602,2604,2606,2608,2620,2622,2624,2626,2628,2640,2642,2644,2646,2648,2660,2662,2664,2666,2668,2680,2682,2684,2686,2688,2800,2802,2804,2806,2808,2820,2822,2824,2826,2828,2840,2842,2844,2846,2848,2860,2862,2864,2866,2868,2880,2882,2884,2886,2888\n"
     ]
    }
   ],
   "source": [
    "myevens=[]\n",
    "for i in range(1000,3001):\n",
    "    s=str(i)\n",
    "    if int(s[0])&1==0 and int(s[1])&1==0 and int(s[2])&1==0 and int(s[3])&1==0:\n",
    "        myevens.append(i)\n",
    "    \n",
    "print(*myevens,sep=',')"
   ]
  },
  {
   "cell_type": "markdown",
   "id": "8058b6d5",
   "metadata": {},
   "source": [
    "### Answer 13"
   ]
  },
  {
   "cell_type": "code",
   "execution_count": 6,
   "id": "5049c4cc",
   "metadata": {},
   "outputs": [
    {
     "name": "stdout",
     "output_type": "stream",
     "text": [
      "Enter a string: rakesh 007 james bond\n",
      "Letters 15\n",
      "Digits 3\n"
     ]
    }
   ],
   "source": [
    "mystring = input(\"Enter a string: \")\n",
    "letters=0\n",
    "digits=0\n",
    "for i in mystring:\n",
    "    if i.isdigit():digits+=1\n",
    "    elif i.isalpha():letters+=1\n",
    "print(\"Letters\",letters)\n",
    "print(\"Digits\",digits)"
   ]
  },
  {
   "cell_type": "markdown",
   "id": "8bbc9036",
   "metadata": {},
   "source": [
    "### Answer 14"
   ]
  },
  {
   "cell_type": "code",
   "execution_count": 7,
   "id": "3993fa4a",
   "metadata": {},
   "outputs": [
    {
     "name": "stdout",
     "output_type": "stream",
     "text": [
      "Enter a string: raju Bheem Chutki\n",
      "Upper Case 2\n",
      "Lower Case 13\n"
     ]
    }
   ],
   "source": [
    "mystring = input(\"Enter a string: \")\n",
    "l=0\n",
    "u=0\n",
    "for i in mystring:\n",
    "    if i.islower():l+=1\n",
    "    elif i.isupper():u+=1\n",
    "print(\"Upper Case\",u)\n",
    "print(\"Lower Case\",l)"
   ]
  },
  {
   "cell_type": "markdown",
   "id": "82fcb94d",
   "metadata": {},
   "source": [
    "### Answer 16"
   ]
  },
  {
   "cell_type": "code",
   "execution_count": 11,
   "id": "2f78dd5a",
   "metadata": {},
   "outputs": [
    {
     "name": "stdout",
     "output_type": "stream",
     "text": [
      "Enter numbers seperated by commas: 1,2,3,4,5,6,7,8,9\n",
      "1,9,25,49,81\n"
     ]
    }
   ],
   "source": [
    "numbers = map(int, input(\"Enter numbers seperated by commas: \").split(','))\n",
    "oddsquares=[]\n",
    "for n in numbers:\n",
    "    if n&1:\n",
    "        oddsquares.append(n*n)\n",
    "print(*oddsquares,sep=',')"
   ]
  },
  {
   "cell_type": "markdown",
   "id": "cb1fa4ac",
   "metadata": {},
   "source": [
    "### Answer 17"
   ]
  },
  {
   "cell_type": "code",
   "execution_count": 15,
   "id": "ffe7a9df",
   "metadata": {},
   "outputs": [
    {
     "name": "stdout",
     "output_type": "stream",
     "text": [
      "Enter transaction type(D or W) and amount seperated with spaces: D 300\n",
      "Enter transaction type(D or W) and amount seperated with spaces: D 400\n",
      "Enter transaction type(D or W) and amount seperated with spaces: W 400\n",
      "Enter transaction type(D or W) and amount seperated with spaces: \n",
      "300\n"
     ]
    }
   ],
   "source": [
    "balance=0\n",
    "while True:\n",
    "    trans=input(\"Enter transaction type(D or W) and amount seperated with spaces: \").split()\n",
    "    if len(trans)<2: break\n",
    "    D_W=trans[0]\n",
    "    amount=int(trans[1])\n",
    "    if D_W=='D': balance+=amount\n",
    "    elif D_W=='W':balance-=amount\n",
    "    else:print(\"Invalid input for transaction type!\")\n",
    "print(balance)"
   ]
  },
  {
   "cell_type": "markdown",
   "id": "56b2aea5",
   "metadata": {},
   "source": [
    "### Answer 18"
   ]
  },
  {
   "cell_type": "code",
   "execution_count": 19,
   "id": "64cfe7bb",
   "metadata": {},
   "outputs": [
    {
     "name": "stdout",
     "output_type": "stream",
     "text": [
      "Enter different passwords to check the validity: ABd1234@1,a F1#,2w3E*,2We3345\n",
      "ABd1234@1\n"
     ]
    }
   ],
   "source": [
    "import re\n",
    "passwords = input(\"Enter different passwords to check the validity: \").split(',')\n",
    "valid_passwords=[]\n",
    "for i in passwords:\n",
    "    if 5<len(i)<13:\n",
    "        if re.search(\"[a-z]\",i) and re.search(\"[A-Z]\",i) and re.search(\"[$#@]\",i) and re.search(\"[0-9]\",i):\n",
    "            valid_passwords.append(i)\n",
    "print(*valid_passwords,sep='')"
   ]
  },
  {
   "cell_type": "markdown",
   "id": "e6d6a5a7",
   "metadata": {},
   "source": [
    "### Answer 19"
   ]
  },
  {
   "cell_type": "code",
   "execution_count": 20,
   "id": "2df3110d",
   "metadata": {},
   "outputs": [
    {
     "name": "stdout",
     "output_type": "stream",
     "text": [
      "Enter the input in name,age,score format: Tom,19,80\n",
      "Enter the input in name,age,score format: John,20,90\n",
      "Enter the input in name,age,score format: Jony,17,91\n",
      "Enter the input in name,age,score format: Jony,17,93\n",
      "Enter the input in name,age,score format: Json,21,85\n",
      "Enter the input in name,age,score format: \n",
      "[('John', '20', '90'), ('Jony', '17', '91'), ('Jony', '17', '93'), ('Json', '21', '85'), ('Tom', '19', '80')]\n"
     ]
    }
   ],
   "source": [
    "res=[]\n",
    "while True:\n",
    "    my_data = input(\"Enter the input in name,age,score format: \")\n",
    "    if len(my_data)<3: break\n",
    "    res.append(tuple(my_data.split(',')))\n",
    "print(sorted(res))"
   ]
  },
  {
   "cell_type": "markdown",
   "id": "0199bd96",
   "metadata": {},
   "source": [
    "### Answer 20"
   ]
  },
  {
   "cell_type": "code",
   "execution_count": 22,
   "id": "a55fd0f2",
   "metadata": {},
   "outputs": [
    {
     "name": "stdout",
     "output_type": "stream",
     "text": [
      "Enter the range until which you want to find multiples of 7: 35\n",
      "[7, 14, 21, 28, 35]\n"
     ]
    }
   ],
   "source": [
    "def divisor_7(n):\n",
    "    i=7\n",
    "    mynum=[]\n",
    "    while i<=n:\n",
    "        mynum.append(i)\n",
    "        i+=7\n",
    "    return mynum\n",
    "n = int(input(\"Enter the range until which you want to find multiples of 7: \"))\n",
    "print(divisor_7(n))"
   ]
  },
  {
   "cell_type": "markdown",
   "id": "a5a3a958",
   "metadata": {},
   "source": [
    "### Answer 21"
   ]
  },
  {
   "cell_type": "code",
   "execution_count": 30,
   "id": "615635ed",
   "metadata": {},
   "outputs": [
    {
     "name": "stdout",
     "output_type": "stream",
     "text": [
      "So lets find the distance of the robot from it's start position.\n",
      "For that we should need to move the robot:\n",
      "Enter the values:\n",
      "where direction = u for Up, d for Down, l for left, r for right\n",
      "and steps = integer\n",
      "To stop the robot just enter without giving any input\n",
      "Enter the direction: u\n",
      "Enter the steps: 5\n",
      "Enter the direction: d\n",
      "Enter the steps: 3\n",
      "Enter the direction: l\n",
      "Enter the steps: 3\n",
      "Enter the direction: r\n",
      "Enter the steps: 2\n",
      "Enter the direction: \n",
      "Displacement of the robot from the start point is  2\n"
     ]
    }
   ],
   "source": [
    "import math\n",
    "print(\"\"\"So lets find the distance of the robot from it's start position.\n",
    "For that we should need to move the robot:\n",
    "Enter the values:\n",
    "where direction = u for Up, d for Down, l for left, r for right\n",
    "and steps = integer\n",
    "To stop the robot just enter without giving any input\"\"\")\n",
    "coordinates = {'u':0,'d':0,'l':0,'r':0}\n",
    "while True:\n",
    "    direction = input(\"Enter the direction: \")\n",
    "    if direction==\"\": break\n",
    "\n",
    "    steps = int(input(\"Enter the steps: \"))\n",
    "\n",
    "    coordinates[direction]+=steps\n",
    "xcord = abs(coordinates['l']-coordinates['r'])\n",
    "ycord = abs(coordinates['u']-coordinates['d'])\n",
    "if xcord==0 or ycord==0: print(\"Displacement of the robot from the start point is \",xcord+ycord)\n",
    "else:\n",
    "    print(\"Displacement of the robot from the start point is \",round(math.sqrt(xcord*xcord+ycord*ycord)))"
   ]
  },
  {
   "cell_type": "markdown",
   "id": "daaaa2f8",
   "metadata": {},
   "source": [
    "### Answer 22"
   ]
  },
  {
   "cell_type": "code",
   "execution_count": 37,
   "id": "6abc9adb",
   "metadata": {},
   "outputs": [
    {
     "name": "stdout",
     "output_type": "stream",
     "text": [
      "Enter a line: New to Python or choosing between Python 2 and Python 3? Read Python 2 or Python 3\n",
      "2:2\n",
      "3:1\n",
      "3?:1\n",
      "New:1\n",
      "Python:5\n",
      "Read:1\n",
      "and:1\n",
      "between:1\n",
      "choosing:1\n",
      "or:2\n",
      "to:1\n"
     ]
    }
   ],
   "source": [
    "mytext = input(\"Enter a line: \").split()\n",
    "mydict = {}\n",
    "for i in mytext:\n",
    "    if i not in mydict.keys():\n",
    "        mydict.update({i:1})\n",
    "    else:mydict[i]+=1\n",
    "mylist = sorted(list(mydict.items()))\n",
    "for i in mylist:\n",
    "    print(i[0]+':'+str(i[1]))"
   ]
  },
  {
   "cell_type": "markdown",
   "id": "7279c58b",
   "metadata": {},
   "source": [
    "### Answer 23"
   ]
  },
  {
   "cell_type": "code",
   "execution_count": 38,
   "id": "1318f3f6",
   "metadata": {},
   "outputs": [
    {
     "name": "stdout",
     "output_type": "stream",
     "text": [
      "Enter a number to be squared: 4\n",
      "16\n"
     ]
    }
   ],
   "source": [
    "mynum = int(input(\"Enter a number to be squared: \"))\n",
    "print(mynum*mynum)"
   ]
  },
  {
   "cell_type": "markdown",
   "id": "5ddfde7e",
   "metadata": {},
   "source": [
    "### Answer 26"
   ]
  },
  {
   "cell_type": "code",
   "execution_count": 40,
   "id": "8f4efb7d",
   "metadata": {},
   "outputs": [
    {
     "name": "stdout",
     "output_type": "stream",
     "text": [
      "Enter a number x: 5\n",
      "Enter a number y: 6\n",
      "Sum of x and y= 11\n"
     ]
    }
   ],
   "source": [
    "def sum_of_2(a,b):\n",
    "    return a+b\n",
    "\n",
    "x = int(input(\"Enter a number x: \"))\n",
    "y = int(input(\"Enter a number y: \"))\n",
    "print(\"Sum of x and y=\",sum_of_2(x,y))"
   ]
  },
  {
   "cell_type": "markdown",
   "id": "5c279248",
   "metadata": {},
   "source": [
    "### Answer 27"
   ]
  },
  {
   "cell_type": "code",
   "execution_count": 43,
   "id": "e326b9cf",
   "metadata": {},
   "outputs": [
    {
     "name": "stdout",
     "output_type": "stream",
     "text": [
      "Enter a number: 5\n",
      "5 <class 'str'>\n"
     ]
    }
   ],
   "source": [
    "def convertoString(n):\n",
    "    n=str(n)\n",
    "    print(n,type(n))\n",
    "n = int(input(\"Enter a number: \"))\n",
    "convertoString(n)"
   ]
  },
  {
   "cell_type": "markdown",
   "id": "2f3fb294",
   "metadata": {},
   "source": [
    "### Answer 28"
   ]
  },
  {
   "cell_type": "code",
   "execution_count": 44,
   "id": "8b656082",
   "metadata": {},
   "outputs": [
    {
     "name": "stdout",
     "output_type": "stream",
     "text": [
      "Enter two numbers seperated with spaces: 45 60\n",
      "105\n"
     ]
    }
   ],
   "source": [
    "def addStringNum(s):\n",
    "    a,b=s.split()\n",
    "    print(int(a)+int(b))\n",
    "s = input(\"Enter two numbers seperated with spaces: \")\n",
    "addStringNum(s)"
   ]
  },
  {
   "cell_type": "markdown",
   "id": "ca461abb",
   "metadata": {},
   "source": [
    "### Answer 29"
   ]
  },
  {
   "cell_type": "code",
   "execution_count": 46,
   "id": "9cd434bc",
   "metadata": {},
   "outputs": [
    {
     "name": "stdout",
     "output_type": "stream",
     "text": [
      "Enter first string: rcb\n",
      "Enter second string: csk\n",
      "rcbcsk\n"
     ]
    }
   ],
   "source": [
    "def addStrings(s1,s2):\n",
    "    print(s1+s2)\n",
    "string1 = input(\"Enter first string: \")\n",
    "string2 = input(\"Enter second string: \")\n",
    "addStrings(string1,string2)"
   ]
  },
  {
   "cell_type": "markdown",
   "id": "5ffce433",
   "metadata": {},
   "source": [
    "### Answer 30"
   ]
  },
  {
   "cell_type": "code",
   "execution_count": 48,
   "id": "e0ce9e2b",
   "metadata": {},
   "outputs": [
    {
     "name": "stdout",
     "output_type": "stream",
     "text": [
      "Enter first string: abcd\n",
      "Enter second string: ad\n",
      "abcd\n"
     ]
    }
   ],
   "source": [
    "def compareString(s1,s2):\n",
    "    if(len(s1)==len(s2)):\n",
    "        print(s1)\n",
    "        print(s2)\n",
    "    elif len(s1)>len(s2):\n",
    "        print(s1)\n",
    "    else:print(s2)\n",
    "string1 = input(\"Enter first string: \")\n",
    "string2 = input(\"Enter second string: \")\n",
    "compareString(string1,string2)"
   ]
  },
  {
   "cell_type": "markdown",
   "id": "8c879a06",
   "metadata": {},
   "source": [
    "### Answer 31"
   ]
  },
  {
   "cell_type": "code",
   "execution_count": 50,
   "id": "b9d25a41",
   "metadata": {},
   "outputs": [
    {
     "name": "stdout",
     "output_type": "stream",
     "text": [
      "Enter the range: 20\n",
      "{1: 1, 2: 4, 3: 9, 4: 16, 5: 25, 6: 36, 7: 49, 8: 64, 9: 81, 10: 100, 11: 121, 12: 144, 13: 169, 14: 196, 15: 225, 16: 256, 17: 289, 18: 324, 19: 361, 20: 400}\n"
     ]
    }
   ],
   "source": [
    "def squareDict(n):\n",
    "    sqd={}\n",
    "    for i in range(1,n+1):\n",
    "        sqd.update({i:i**2})\n",
    "    return sqd\n",
    "n = 20\n",
    "print(squareDict(n))"
   ]
  },
  {
   "cell_type": "markdown",
   "id": "0946d073",
   "metadata": {},
   "source": [
    "### Answer 32"
   ]
  },
  {
   "cell_type": "code",
   "execution_count": 63,
   "id": "7c2cad22",
   "metadata": {},
   "outputs": [
    {
     "name": "stdout",
     "output_type": "stream",
     "text": [
      "Keys: [1, 2, 3, 4, 5, 6, 7, 8, 9, 10, 11, 12, 13, 14, 15, 16, 17, 18, 19, 20]\n"
     ]
    }
   ],
   "source": [
    "def squareKey(n):\n",
    "    sqdKey={}\n",
    "    for i in range(1,n+1):\n",
    "        sqdKey.update({i:i**2})\n",
    "    return list(sqdKey.keys())\n",
    "n = 20\n",
    "print(\"Keys:\",squareKey(n))"
   ]
  },
  {
   "cell_type": "markdown",
   "id": "dc97099b",
   "metadata": {},
   "source": [
    "### Answer 33"
   ]
  },
  {
   "cell_type": "code",
   "execution_count": 64,
   "id": "d064723d",
   "metadata": {},
   "outputs": [
    {
     "name": "stdout",
     "output_type": "stream",
     "text": [
      "Square values: [1, 4, 9, 16, 25, 36, 49, 64, 81, 100, 121, 144, 169, 196, 225, 256, 289, 324, 361, 400]\n"
     ]
    }
   ],
   "source": [
    "def squareVal(n):\n",
    "    sqdVal={}\n",
    "    for i in range(1,n+1):\n",
    "        sqdVal.update({i:i**2})\n",
    "    return list(sqdVal.values())\n",
    "n = 20\n",
    "print(\"List of Square values:\",squareVal(n))"
   ]
  },
  {
   "cell_type": "markdown",
   "id": "e2a493b4",
   "metadata": {},
   "source": [
    "### Answer 34"
   ]
  },
  {
   "cell_type": "code",
   "execution_count": 65,
   "id": "6ade9d30",
   "metadata": {},
   "outputs": [
    {
     "name": "stdout",
     "output_type": "stream",
     "text": [
      "First 5 values: [1, 4, 9, 16, 25]\n"
     ]
    }
   ],
   "source": [
    "def squareVal(n):\n",
    "    sqdVal={}\n",
    "    for i in range(1,n+1):\n",
    "        sqdVal.update({i:i**2})\n",
    "    return list(sqdVal.values())\n",
    "n = 20\n",
    "values = squareVal(n)\n",
    "print(\"First 5 values:\",values[:5])"
   ]
  },
  {
   "cell_type": "markdown",
   "id": "ab2c77f8",
   "metadata": {},
   "source": [
    "### Answer 35"
   ]
  },
  {
   "cell_type": "code",
   "execution_count": 66,
   "id": "ed17275b",
   "metadata": {},
   "outputs": [
    {
     "name": "stdout",
     "output_type": "stream",
     "text": [
      "Last 5 values= [256, 289, 324, 361, 400]\n"
     ]
    }
   ],
   "source": [
    "def squareVal(n):\n",
    "    sqdVal={}\n",
    "    for i in range(1,n+1):\n",
    "        sqdVal.update({i:i**2})\n",
    "    return list(sqdVal.values())\n",
    "n = 20\n",
    "values = squareVal(n)\n",
    "print(\"Last 5 values=\",values[-5:])"
   ]
  },
  {
   "cell_type": "markdown",
   "id": "135d1eab",
   "metadata": {},
   "source": [
    "### Answer 36"
   ]
  },
  {
   "cell_type": "code",
   "execution_count": 67,
   "id": "d78fdfb8",
   "metadata": {},
   "outputs": [
    {
     "name": "stdout",
     "output_type": "stream",
     "text": [
      "All values except first 5: [36, 49, 64, 81, 100, 121, 144, 169, 196, 225, 256, 289, 324, 361, 400]\n"
     ]
    }
   ],
   "source": [
    "def squareVal(n):\n",
    "    sqdVal={}\n",
    "    for i in range(1,n+1):\n",
    "        sqdVal.update({i:i**2})\n",
    "    return list(sqdVal.values())\n",
    "n = 20\n",
    "values = squareVal(n)\n",
    "print(\"All values except first 5:\",values[5:])"
   ]
  },
  {
   "cell_type": "markdown",
   "id": "f2f98a5a",
   "metadata": {},
   "source": [
    "### Answer 37"
   ]
  },
  {
   "cell_type": "code",
   "execution_count": 68,
   "id": "905fe5d2",
   "metadata": {},
   "outputs": [
    {
     "name": "stdout",
     "output_type": "stream",
     "text": [
      "Tuple of Square values: (1, 4, 9, 16, 25, 36, 49, 64, 81, 100, 121, 144, 169, 196, 225, 256, 289, 324, 361, 400)\n"
     ]
    }
   ],
   "source": [
    "def squareVal(n):\n",
    "    sqdVal={}\n",
    "    for i in range(1,n+1):\n",
    "        sqdVal.update({i:i**2})\n",
    "    return list(sqdVal.values())\n",
    "n = 20\n",
    "print(\"Tuple of Square values:\",tuple(squareVal(n)))"
   ]
  },
  {
   "cell_type": "markdown",
   "id": "1ef1e4ed",
   "metadata": {},
   "source": [
    "### Answer 38"
   ]
  },
  {
   "cell_type": "code",
   "execution_count": 70,
   "id": "455fdf5b",
   "metadata": {},
   "outputs": [
    {
     "name": "stdout",
     "output_type": "stream",
     "text": [
      "(1, 2, 3, 4, 5)\n",
      "(6, 7, 8, 9, 10)\n"
     ]
    }
   ],
   "source": [
    "givenTuple1 = (1,2,3,4,5,6,7,8,9,10)\n",
    "print(givenTuple1[:5])\n",
    "print(givenTuple1[5:])"
   ]
  },
  {
   "cell_type": "markdown",
   "id": "20ba009b",
   "metadata": {},
   "source": [
    "### Answer 39"
   ]
  },
  {
   "cell_type": "code",
   "execution_count": 74,
   "id": "8ea31434",
   "metadata": {},
   "outputs": [
    {
     "name": "stdout",
     "output_type": "stream",
     "text": [
      "Even Tuple: (2, 4, 6, 8, 10)\n"
     ]
    }
   ],
   "source": [
    "givenTuple2 = (1,2,3,4,5,6,7,8,9,10)\n",
    "evenTuple=[]\n",
    "for i in givenTuple2:\n",
    "    if i&1==0:\n",
    "        evenTuple.append(i)\n",
    "print(\"Even Tuple:\",tuple(evenTuple))"
   ]
  },
  {
   "cell_type": "markdown",
   "id": "a7da6f29",
   "metadata": {},
   "source": [
    "### Answer 40"
   ]
  },
  {
   "cell_type": "code",
   "execution_count": 77,
   "id": "8d72aad3",
   "metadata": {},
   "outputs": [
    {
     "name": "stdout",
     "output_type": "stream",
     "text": [
      "Input yes or try any: yeS\n",
      "Yes\n"
     ]
    }
   ],
   "source": [
    "yes_no = input(\"Input yes or try any: \")\n",
    "if yes_no.lower()==\"yes\":\n",
    "    print(\"Yes\")\n",
    "else:print(\"No\")"
   ]
  },
  {
   "cell_type": "markdown",
   "id": "8c056ade",
   "metadata": {},
   "source": [
    "### Answer 41"
   ]
  },
  {
   "cell_type": "code",
   "execution_count": 81,
   "id": "e591ac90",
   "metadata": {},
   "outputs": [
    {
     "name": "stdout",
     "output_type": "stream",
     "text": [
      "[1, 4, 9, 16, 25, 36, 49, 64, 81, 100]\n"
     ]
    }
   ],
   "source": [
    "mylist = [1,2,3,4,5,6,7,8,9,10]\n",
    "mp = map(lambda x: x**2,mylist)\n",
    "print(list(mp))"
   ]
  },
  {
   "cell_type": "markdown",
   "id": "a7762b1f",
   "metadata": {},
   "source": [
    "### Answer 42"
   ]
  },
  {
   "cell_type": "code",
   "execution_count": 83,
   "id": "0dfa547d",
   "metadata": {},
   "outputs": [
    {
     "name": "stdout",
     "output_type": "stream",
     "text": [
      "[4, 16, 36, 64, 100]\n"
     ]
    }
   ],
   "source": [
    "mylist = [1,2,3,4,5,6,7,8,9,10]\n",
    "mp = map(lambda x: x**2, filter(lambda x:x&1==0, mylist))\n",
    "print(list(mp))"
   ]
  },
  {
   "cell_type": "markdown",
   "id": "71cbad8b",
   "metadata": {},
   "source": [
    "### Answer 43"
   ]
  },
  {
   "cell_type": "code",
   "execution_count": 84,
   "id": "20aa12fb",
   "metadata": {},
   "outputs": [
    {
     "name": "stdout",
     "output_type": "stream",
     "text": [
      "[2, 4, 6, 8, 10, 12, 14, 16, 18, 20]\n"
     ]
    }
   ],
   "source": [
    "mylist=[i for i in range(1,21)]\n",
    "eve = lambda e: e&1==0\n",
    "eveList=list(filter(eve,mylist))\n",
    "print(eveList)"
   ]
  },
  {
   "cell_type": "markdown",
   "id": "94fddb38",
   "metadata": {},
   "source": [
    "### Answer 44"
   ]
  },
  {
   "cell_type": "code",
   "execution_count": 88,
   "id": "dc731863",
   "metadata": {},
   "outputs": [
    {
     "name": "stdout",
     "output_type": "stream",
     "text": [
      "[1, 4, 9, 16, 25, 36, 49, 64, 81, 100, 121, 144, 169, 196, 225, 256, 289, 324, 361, 400]\n"
     ]
    }
   ],
   "source": [
    "mylist=[i for i in range(1,21)]\n",
    "sqList=map(lambda x: x**2,mylist)\n",
    "print(list(sqList))"
   ]
  },
  {
   "cell_type": "markdown",
   "id": "d995c569",
   "metadata": {},
   "source": [
    "### Answer 53"
   ]
  },
  {
   "cell_type": "code",
   "execution_count": 89,
   "id": "01c473b6",
   "metadata": {},
   "outputs": [
    {
     "name": "stdout",
     "output_type": "stream",
     "text": [
      "Enter the mail address: rakesh@ymail.com\n",
      "Name: rakesh\n"
     ]
    }
   ],
   "source": [
    "mail_id = input(\"Enter the mail address: \").split('@')\n",
    "print(\"Name:\",mail_id[0])"
   ]
  },
  {
   "cell_type": "markdown",
   "id": "57d9b624",
   "metadata": {},
   "source": [
    "### Answer 54"
   ]
  },
  {
   "cell_type": "code",
   "execution_count": 1,
   "id": "0690de17",
   "metadata": {},
   "outputs": [
    {
     "name": "stdout",
     "output_type": "stream",
     "text": [
      "Enter the mail address: me@gmail.com\n",
      "Company: gmail\n"
     ]
    }
   ],
   "source": [
    "mail_id = input(\"Enter the mail address: \").split('@')\n",
    "domain = mail_id[1].split('.')\n",
    "print(\"Company:\",domain[0])"
   ]
  },
  {
   "cell_type": "markdown",
   "id": "16ab6afa",
   "metadata": {},
   "source": [
    "### Answer 55"
   ]
  },
  {
   "cell_type": "code",
   "execution_count": 3,
   "id": "e6d15f5f",
   "metadata": {},
   "outputs": [
    {
     "name": "stdout",
     "output_type": "stream",
     "text": [
      "Enter a text consisting some numbers within it2 cats and 3 dogs\n",
      "['2', '3']\n"
     ]
    }
   ],
   "source": [
    "mytext = input(\"Enter a text consisting some numbers within it\").split()\n",
    "listnum =[]\n",
    "for i in mytext:\n",
    "    if not i.isalpha() and i.isdigit():\n",
    "        listnum.append(i)\n",
    "print(listnum)"
   ]
  },
  {
   "cell_type": "markdown",
   "id": "2573a785",
   "metadata": {},
   "source": [
    "### Answer 56"
   ]
  },
  {
   "cell_type": "code",
   "execution_count": 10,
   "id": "3edcce5b",
   "metadata": {},
   "outputs": [
    {
     "name": "stdout",
     "output_type": "stream",
     "text": [
      "Hello, world!\n"
     ]
    }
   ],
   "source": [
    "print(u'Hello, world!')"
   ]
  },
  {
   "cell_type": "markdown",
   "id": "ce477962",
   "metadata": {},
   "source": [
    "### Answer 57"
   ]
  },
  {
   "cell_type": "code",
   "execution_count": 8,
   "id": "e043c327",
   "metadata": {},
   "outputs": [
    {
     "name": "stdout",
     "output_type": "stream",
     "text": [
      "Enter any string: jai shri ram\n",
      "b'jai shri ram'\n"
     ]
    }
   ],
   "source": [
    "asciiString=input(\"Enter any string: \")\n",
    "print(asciiString.encode('utf-8'))"
   ]
  },
  {
   "cell_type": "markdown",
   "id": "8643771f",
   "metadata": {},
   "source": [
    "### Answer 59"
   ]
  },
  {
   "cell_type": "code",
   "execution_count": 1,
   "id": "430687db",
   "metadata": {},
   "outputs": [
    {
     "name": "stdout",
     "output_type": "stream",
     "text": [
      "Enter the range for the equation: 5\n",
      "3.5500000000000003\n"
     ]
    }
   ],
   "source": [
    "def solveEq(N) :  \n",
    "    sum = 0;\n",
    "    for i in range(1, N + 1) :\n",
    "            sum += i / (i + 1); \n",
    "\n",
    "    print(float(sum));\n",
    "    \n",
    "n = int(input(\"Enter the range for the equation: \"))\n",
    "solveEq(n)"
   ]
  },
  {
   "cell_type": "markdown",
   "id": "790aa9e3",
   "metadata": {},
   "source": [
    "### Answer 60"
   ]
  },
  {
   "cell_type": "code",
   "execution_count": 3,
   "id": "846241b7",
   "metadata": {},
   "outputs": [
    {
     "name": "stdout",
     "output_type": "stream",
     "text": [
      "Enter a number f = 5\n",
      "500\n"
     ]
    }
   ],
   "source": [
    "def solveF(n):\n",
    "    total=0\n",
    "    for i in range(n):\n",
    "        total+=100\n",
    "    return total\n",
    "n = int(input(\"Enter a number f = \"))\n",
    "print(solveF(n))"
   ]
  },
  {
   "cell_type": "markdown",
   "id": "82e4abab",
   "metadata": {},
   "source": [
    "### Answer 61"
   ]
  },
  {
   "cell_type": "code",
   "execution_count": 6,
   "id": "2b572ff1",
   "metadata": {},
   "outputs": [
    {
     "name": "stdout",
     "output_type": "stream",
     "text": [
      "Enter a number to find nth fibonaaci number: 7\n",
      "13\n"
     ]
    }
   ],
   "source": [
    "def Fib(n):\n",
    "    if n < 0:\n",
    "        print(\"Invalid input\")\n",
    "    elif n == 0:\n",
    "        return 0\n",
    "    elif n == 1 or n == 2:\n",
    "        return 1\n",
    "    else:\n",
    "        return Fib(n-1) + Fib(n-2)\n",
    "\n",
    "n = int(input(\"Enter a number to find nth fibonaaci number: \"))\n",
    "print(Fib(n))"
   ]
  },
  {
   "cell_type": "markdown",
   "id": "dbe9b0f2",
   "metadata": {},
   "source": [
    "### Answer 62"
   ]
  },
  {
   "cell_type": "code",
   "execution_count": 10,
   "id": "aa3e51af",
   "metadata": {},
   "outputs": [
    {
     "name": "stdout",
     "output_type": "stream",
     "text": [
      "Enter a number to find nth fibonaaci number: 7\n",
      "0,1,1,2,3,5,8,13\n"
     ]
    }
   ],
   "source": [
    "def FibList(n):\n",
    "    fib=[]\n",
    "    n1=0\n",
    "    n2=1\n",
    "    count=0\n",
    "    if n == 1:\n",
    "        return 0\n",
    "    else:\n",
    "        while count <= n:\n",
    "            fib.append(n1)\n",
    "            nth = n1 + n2\n",
    "            n1 = n2\n",
    "            n2 = nth\n",
    "            count += 1\n",
    "    print(*fib,sep=',')\n",
    "\n",
    "n = int(input(\"Enter a number to find nth fibonaaci number: \"))\n",
    "FibList(n)"
   ]
  }
 ],
 "metadata": {
  "kernelspec": {
   "display_name": "Python 3 (ipykernel)",
   "language": "python",
   "name": "python3"
  },
  "language_info": {
   "codemirror_mode": {
    "name": "ipython",
    "version": 3
   },
   "file_extension": ".py",
   "mimetype": "text/x-python",
   "name": "python",
   "nbconvert_exporter": "python",
   "pygments_lexer": "ipython3",
   "version": "3.9.6"
  }
 },
 "nbformat": 4,
 "nbformat_minor": 5
}
